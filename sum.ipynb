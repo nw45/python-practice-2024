{
  "nbformat": 4,
  "nbformat_minor": 0,
  "metadata": {
    "colab": {
      "provenance": [],
      "authorship_tag": "ABX9TyOU/yq6xkogaaVjXbLB/jvb",
      "include_colab_link": true
    },
    "kernelspec": {
      "name": "python3",
      "display_name": "Python 3"
    },
    "language_info": {
      "name": "python"
    }
  },
  "cells": [
    {
      "cell_type": "markdown",
      "metadata": {
        "id": "view-in-github",
        "colab_type": "text"
      },
      "source": [
        "<a href=\"https://colab.research.google.com/github/nw45/python-practice-2024/blob/main/sum.ipynb\" target=\"_parent\"><img src=\"https://colab.research.google.com/assets/colab-badge.svg\" alt=\"Open In Colab\"/></a>"
      ]
    },
    {
      "cell_type": "code",
      "execution_count": null,
      "metadata": {
        "id": "0wulWqG9QO5M"
      },
      "outputs": [],
      "source": []
    },
    {
      "cell_type": "code",
      "source": [
        "#This program adds two numbers\n",
        "num1 = 1\n",
        "num2 = 2\n",
        "\n",
        "#Add two numbers\n",
        "sum = num1 + num2\n",
        "\n",
        "#display the sum\n",
        "print(\"The sum of the numbers is: \", sum)"
      ],
      "metadata": {
        "colab": {
          "base_uri": "https://localhost:8080/"
        },
        "id": "5WhhZweLQcv0",
        "outputId": "2dd22505-053d-4f03-e0cd-7341c42aedc9"
      },
      "execution_count": 1,
      "outputs": [
        {
          "output_type": "stream",
          "name": "stdout",
          "text": [
            "The sum of the numbers is:  3\n"
          ]
        }
      ]
    }
  ]
}